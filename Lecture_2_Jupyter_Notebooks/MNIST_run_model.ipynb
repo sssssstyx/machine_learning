{
 "cells": [
  {
   "cell_type": "markdown",
   "metadata": {},
   "source": [
    "# Solution for exercise 5 and 6"
   ]
  },
  {
   "cell_type": "code",
   "execution_count": 1,
   "metadata": {},
   "outputs": [],
   "source": [
    "import tensorflow as tf\n",
    "import matplotlib.pyplot as plt\n",
    "from tensorflow.examples.tutorials.mnist import input_data"
   ]
  },
  {
   "cell_type": "code",
   "execution_count": 2,
   "metadata": {},
   "outputs": [
    {
     "name": "stdout",
     "output_type": "stream",
     "text": [
      "WARNING:tensorflow:From <ipython-input-2-319879c4c296>:1: read_data_sets (from tensorflow.contrib.learn.python.learn.datasets.mnist) is deprecated and will be removed in a future version.\n",
      "Instructions for updating:\n",
      "Please use alternatives such as official/mnist/dataset.py from tensorflow/models.\n",
      "WARNING:tensorflow:From C:\\Users\\mickey\\AppData\\Local\\conda\\conda\\envs\\lecture_1\\lib\\site-packages\\tensorflow\\contrib\\learn\\python\\learn\\datasets\\mnist.py:260: maybe_download (from tensorflow.contrib.learn.python.learn.datasets.base) is deprecated and will be removed in a future version.\n",
      "Instructions for updating:\n",
      "Please write your own downloading logic.\n",
      "WARNING:tensorflow:From C:\\Users\\mickey\\AppData\\Local\\conda\\conda\\envs\\lecture_1\\lib\\site-packages\\tensorflow\\contrib\\learn\\python\\learn\\datasets\\mnist.py:262: extract_images (from tensorflow.contrib.learn.python.learn.datasets.mnist) is deprecated and will be removed in a future version.\n",
      "Instructions for updating:\n",
      "Please use tf.data to implement this functionality.\n",
      "Extracting MNIST_data/train-images-idx3-ubyte.gz\n",
      "WARNING:tensorflow:From C:\\Users\\mickey\\AppData\\Local\\conda\\conda\\envs\\lecture_1\\lib\\site-packages\\tensorflow\\contrib\\learn\\python\\learn\\datasets\\mnist.py:267: extract_labels (from tensorflow.contrib.learn.python.learn.datasets.mnist) is deprecated and will be removed in a future version.\n",
      "Instructions for updating:\n",
      "Please use tf.data to implement this functionality.\n",
      "Extracting MNIST_data/train-labels-idx1-ubyte.gz\n",
      "WARNING:tensorflow:From C:\\Users\\mickey\\AppData\\Local\\conda\\conda\\envs\\lecture_1\\lib\\site-packages\\tensorflow\\contrib\\learn\\python\\learn\\datasets\\mnist.py:110: dense_to_one_hot (from tensorflow.contrib.learn.python.learn.datasets.mnist) is deprecated and will be removed in a future version.\n",
      "Instructions for updating:\n",
      "Please use tf.one_hot on tensors.\n",
      "Extracting MNIST_data/t10k-images-idx3-ubyte.gz\n",
      "Extracting MNIST_data/t10k-labels-idx1-ubyte.gz\n",
      "WARNING:tensorflow:From C:\\Users\\mickey\\AppData\\Local\\conda\\conda\\envs\\lecture_1\\lib\\site-packages\\tensorflow\\contrib\\learn\\python\\learn\\datasets\\mnist.py:290: DataSet.__init__ (from tensorflow.contrib.learn.python.learn.datasets.mnist) is deprecated and will be removed in a future version.\n",
      "Instructions for updating:\n",
      "Please use alternatives such as official/mnist/dataset.py from tensorflow/models.\n"
     ]
    }
   ],
   "source": [
    "mnist = input_data.read_data_sets('MNIST_data/', one_hot=True)"
   ]
  },
  {
   "cell_type": "markdown",
   "metadata": {},
   "source": [
    "## Outline for the model"
   ]
  },
  {
   "cell_type": "code",
   "execution_count": 3,
   "metadata": {},
   "outputs": [],
   "source": [
    "input_size = 784\n",
    "hidden_layer_size = 500\n",
    "output_size = 10\n",
    "\n",
    "# Reset any variables left in memory from previous runs. This needs to be run before changing tf variables.\n",
    "tf.reset_default_graph()\n",
    "\n",
    "# Declare placeholders where the data will be fed into.\n",
    "input_layer = tf.placeholder(tf.float32, [None, input_size])\n",
    "targets = tf.placeholder(tf.float32, [None, output_size])\n",
    "\n",
    "# Weights and biases for the first linear combination between the inputs and the first hidden layer.\n",
    "weight_1 = tf.get_variable('weight_1',[input_size, hidden_layer_size])\n",
    "biases_1 = tf.get_variable('biases_1', [hidden_layer_size])\n",
    "\n",
    "# Operation between the inputs and the first hidden layer.\n",
    "# We've chosen Sigmoid as our activation function. You can try playing with different non-linearities. Relu will be better...\n",
    "output_1 = tf.nn.relu(tf.matmul(input_layer, weight_1) + biases_1)\n",
    "\n",
    "# Weights and biases for the second linear combination.\n",
    "# This is between the first hiden layer and the output layer\n",
    "\n",
    "# when adding new hidden layers add them here.\n",
    "weight_2 = tf.get_variable('weight_2',[hidden_layer_size, hidden_layer_size])\n",
    "biases_2 = tf.get_variable('biases_2', [hidden_layer_size])\n",
    "output_2 = tf.nn.relu(tf.matmul(output_1, weight_2) + biases_2)\n",
    "\n",
    "# add 3 more hidden layers\n",
    "weight_3 = tf.get_variable('weight_3',[hidden_layer_size, hidden_layer_size])\n",
    "biases_3 = tf.get_variable('biases_3', [hidden_layer_size])\n",
    "output_3 = tf.nn.relu(tf.matmul(output_2, weight_3) + biases_3)\n",
    "\n",
    "weight_4 = tf.get_variable('weight_4',[hidden_layer_size, hidden_layer_size])\n",
    "biases_4 = tf.get_variable('biases_4', [hidden_layer_size])\n",
    "output_4 = tf.nn.relu(tf.matmul(output_3, weight_4) + biases_4)\n",
    "\n",
    "weight_5 = tf.get_variable('weight_5',[hidden_layer_size, output_size])\n",
    "biases_5 = tf.get_variable('biases_5', [output_size])\n",
    "\n",
    "# notice that we are not using an activation function for the last layer.\n",
    "# the output is the preciction of our network. \n",
    "# We could use softmax activaction function here. Check next comments for reasons why not.\n",
    "output = tf.matmul(output_4, weight_5) + biases_5"
   ]
  },
  {
   "cell_type": "markdown",
   "metadata": {},
   "source": [
    "## Calculate model accuracy"
   ]
  },
  {
   "cell_type": "code",
   "execution_count": 4,
   "metadata": {},
   "outputs": [],
   "source": [
    "# Get a 0 or 1 for every input in the batch indicating whether it output the correct answer out of the 10.\n",
    "# Check the tf.argmax documentation how this works. You can also experiment by printing the values\n",
    "# to visualize what is going on\n",
    "out_equals_targets = tf.equal(tf.argmax(output,1), tf.argmax(targets,1))\n",
    "\n",
    "# Accuracy of our model. Basically correct answers divided by the number of all answers.\n",
    "accuracy = tf.reduce_mean(tf.cast(out_equals_targets,tf.float32))"
   ]
  },
  {
   "cell_type": "code",
   "execution_count": 5,
   "metadata": {},
   "outputs": [
    {
     "name": "stdout",
     "output_type": "stream",
     "text": [
      "INFO:tensorflow:Restoring parameters from ./tmp/model.ckpt\n",
      "Model restored.\n",
      "test accuracy: 0.9808\n"
     ]
    }
   ],
   "source": [
    "# Add ops to save and restore all the variables.\n",
    "saver = tf.train.Saver()\n",
    "\n",
    "# Later, launch the model, use the saver to restore variables from disk, and\n",
    "# do some work with the model.\n",
    "# This is another way to use the session. When creating a script, this is a better way. We not need an interactive session.\n",
    "# Also this is faster.\n",
    "with tf.Session() as sess:\n",
    "    # Restore variables from disk.\n",
    "    saver.restore(sess, \"./tmp/model.ckpt\")\n",
    "    print(\"Model restored.\")\n",
    "    input_batch, target_batch = mnist.test.next_batch(mnist.test._num_examples)\n",
    "    test_accuracy = sess.run(accuracy,\n",
    "                             feed_dict={input_layer: input_batch, targets:target_batch})\n",
    "\n",
    "print('test accuracy: ' + str(test_accuracy))"
   ]
  },
  {
   "cell_type": "code",
   "execution_count": 12,
   "metadata": {},
   "outputs": [
    {
     "data": {
      "image/png": "[encoded data removed]",
      "text/plain": [
       "<Figure size 432x288 with 1 Axes>"
      ]
     },
     "metadata": {
      "needs_background": "light"
     },
     "output_type": "display_data"
    }
   ],
   "source": [
    "# Exercise 6 solution:\n",
    "import matplotlib.image as mimg\n",
    "import matplotlib.pyplot as plt\n",
    "\n",
    "img = mimg.imread('number.png')\n",
    "\n",
    "plt.imshow(img) \n",
    "\n",
    "new_input = img[:,:,1]\n",
    "\n",
    "new_input = new_input.reshape((1,28*28))"
   ]
  },
  {
   "cell_type": "code",
   "execution_count": 13,
   "metadata": {},
   "outputs": [
    {
     "name": "stdout",
     "output_type": "stream",
     "text": [
      "INFO:tensorflow:Restoring parameters from ./tmp/model.ckpt\n",
      "[[-4.6304517 -4.083046  -2.8508453  1.141166  -3.7325304 -2.5552533\n",
      "  -5.435289  -5.2918825 13.51328   -0.9074751]]\n"
     ]
    }
   ],
   "source": [
    "# make the prediction\n",
    "with tf.Session() as sess:\n",
    "    # Restore variables from disk.\n",
    "    saver.restore(sess, \"./tmp/model.ckpt\")    \n",
    "    prediction = sess.run(output,\n",
    "                          feed_dict={input_layer: new_input})\n",
    "\n",
    "print (prediction)"
   ]
  },
  {
   "cell_type": "code",
   "execution_count": 14,
   "metadata": {},
   "outputs": [
    {
     "name": "stdout",
     "output_type": "stream",
     "text": [
      "Predicted number is: [8]\n"
     ]
    }
   ],
   "source": [
    "import numpy as np\n",
    "print ('Predicted number is: '+str(np.argmax(prediction,1)))"
   ]
  },
  {
   "cell_type": "code",
   "execution_count": null,
   "metadata": {},
   "outputs": [],
   "source": []
  }
 ],
 "metadata": {
  "kernelspec": {
   "display_name": "Python 3",
   "language": "python",
   "name": "python3"
  },
  "language_info": {
   "codemirror_mode": {
    "name": "ipython",
    "version": 3
   },
   "file_extension": ".py",
   "mimetype": "text/x-python",
   "name": "python",
   "nbconvert_exporter": "python",
   "pygments_lexer": "ipython3",
   "version": "3.6.8"
  }
 },
 "nbformat": 4,
 "nbformat_minor": 2
}
